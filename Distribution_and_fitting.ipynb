{
 "cells": [
  {
   "cell_type": "markdown",
   "id": "1b232f4f",
   "metadata": {
    "papermill": {
     "duration": 0.010702,
     "end_time": "2023-03-03T08:17:44.853359",
     "exception": false,
     "start_time": "2023-03-03T08:17:44.842657",
     "status": "completed"
    },
    "tags": []
   },
   "source": [
    "# Import"
   ]
  },
  {
   "cell_type": "code",
   "execution_count": 1,
   "id": "43bd1c5b",
   "metadata": {
    "execution": {
     "iopub.execute_input": "2023-03-03T08:17:44.874022Z",
     "iopub.status.busy": "2023-03-03T08:17:44.873281Z",
     "iopub.status.idle": "2023-03-03T08:17:46.334907Z",
     "shell.execute_reply": "2023-03-03T08:17:46.333166Z"
    },
    "papermill": {
     "duration": 1.47576,
     "end_time": "2023-03-03T08:17:46.338595",
     "exception": false,
     "start_time": "2023-03-03T08:17:44.862835",
     "status": "completed"
    },
    "tags": []
   },
   "outputs": [],
   "source": [
    "import numpy as np # linear algebra\n",
    "import pandas as pd # data processing, CSV file I/O (e.g. pd.read_csv)\n",
    "import matplotlib.pyplot as plt\n",
    "import scipy.stats as st\n",
    "from sklearn import metrics\n",
    "from sklearn.metrics import r2_score\n",
    "from scipy.stats import lognorm \n",
    "from scipy.stats import kstest\n",
    "import seaborn as sns"
   ]
  },
  {
   "cell_type": "markdown",
   "id": "88958888",
   "metadata": {
    "papermill": {
     "duration": 0.008798,
     "end_time": "2023-03-03T08:17:46.355802",
     "exception": false,
     "start_time": "2023-03-03T08:17:46.347004",
     "status": "completed"
    },
    "tags": []
   },
   "source": [
    "# Function\n",
    "\n",
    "**removeOutliers(data, col, graph.No)**: By using 1.5 IQR to drop outliers.\n",
    "* **Input** is sample data, target column and graph number. \n",
    "* **Output** is the dataset after drop outliers and the boxgraph.\n",
    "\n",
    "**Statistics_Normal_test(sample, sample_acronym, graph.No)**: It is used to quickly check the statistics of the sample data and whether there are Nans and infinite decimals, etc. Moreover, it is used kstest to detect whether the sample data is in compound normal distribution and to plot the qqplot. H_0 means that the sample data obey the normal distribution, and H_1 means that the sample data do not obey the specific distribution, and the significance level is 0.05. When the p-value is greater than the significance level, the null hypothesis is not rejected, indicating that the specified sequence obeides normal distribution. In addition, it judges symmetry by skewness.\n",
    "* **Input** is sample data and sample's acronym. \n",
    "* **Output** is all the data information, results and qqplot graph.\n",
    "* **Return** is p-value.\n",
    "\n",
    "**Fit_normal(sample, xlabel, Figure.No)**: It is used to fit normal distribution and draw graph. \n",
    "* **Input** is sample data, xlabel, and figure number. \n",
    "* **Output** is the graph. \n",
    "* **Return** is fitting data of the same length.\n",
    "\n",
    "\n",
    "**Loss(sample,fitted_data)**: It is used to evaluate the fitting effect of normal distribution. The p value and error loss of kstest were calculated respectively, among which error loss included SSE, MSE, RMSE, MAE and MAPE. \n",
    "* **Input** is sample data and fitting fitting data. \n",
    "* **Output** is the above evaluation index.\n"
   ]
  },
  {
   "cell_type": "code",
   "execution_count": 2,
   "id": "9348d5f8",
   "metadata": {
    "execution": {
     "iopub.execute_input": "2023-03-03T08:17:46.376100Z",
     "iopub.status.busy": "2023-03-03T08:17:46.375370Z",
     "iopub.status.idle": "2023-03-03T08:17:46.384704Z",
     "shell.execute_reply": "2023-03-03T08:17:46.383365Z"
    },
    "papermill": {
     "duration": 0.02377,
     "end_time": "2023-03-03T08:17:46.388151",
     "exception": false,
     "start_time": "2023-03-03T08:17:46.364381",
     "status": "completed"
    },
    "tags": []
   },
   "outputs": [],
   "source": [
    "# Removing the outliers\n",
    "def removeOutliers(data, col, No):\n",
    "    \n",
    "    print(data[col].describe())\n",
    "    \n",
    "    plt.figure(figsize=(6, 4))\n",
    "    sns.boxplot(x = data[col])\n",
    "    plt.savefig(f\"/kaggle/working/Graph_{No}.png\")\n",
    "    plt.show()\n",
    "    \n",
    "    Q3 = np.quantile(data[col], 0.75)\n",
    "    Q1 = np.quantile(data[col], 0.25)\n",
    "    IQR = Q3 - Q1\n",
    " \n",
    "    print(\"IQR value for column %s is: %s\" % (col, IQR))\n",
    "    global outlier_free_list\n",
    "    global filtered_data\n",
    " \n",
    "    lower_range = Q1 - 1.5 * IQR\n",
    "    upper_range = Q3 + 1.5 * IQR\n",
    "    outlier_free_list = [x for x in data[col] if (\n",
    "        (x > lower_range) & (x < upper_range))]\n",
    "    filtered_data = data.loc[data[col].isin(outlier_free_list)]"
   ]
  },
  {
   "cell_type": "code",
   "execution_count": 3,
   "id": "a2f2497d",
   "metadata": {
    "execution": {
     "iopub.execute_input": "2023-03-03T08:17:46.407273Z",
     "iopub.status.busy": "2023-03-03T08:17:46.406593Z",
     "iopub.status.idle": "2023-03-03T08:17:46.417416Z",
     "shell.execute_reply": "2023-03-03T08:17:46.416420Z"
    },
    "papermill": {
     "duration": 0.023364,
     "end_time": "2023-03-03T08:17:46.420025",
     "exception": false,
     "start_time": "2023-03-03T08:17:46.396661",
     "status": "completed"
    },
    "tags": []
   },
   "outputs": [],
   "source": [
    "def Statistics_Normal_test(sample, sample_acronym, No):\n",
    "    sample.describe()\n",
    "    \n",
    "    print(\"Nan =\", sample.isnull().sum())\n",
    "    \n",
    "    #The denominator is n-1\n",
    "    mean = sample.mean()\n",
    "    std = sample.std()\n",
    "    var = (sample.std())**2\n",
    "    skew = sample.skew()\n",
    "    kurt = sample.kurt()\n",
    "    \n",
    "    print(f\"{sample_acronym}_mean is\", mean)\n",
    "    print(f\"{sample_acronym}_std is\", std)\n",
    "    print(f\"{sample_acronym}_var is\", var)\n",
    "    print(f\"{sample_acronym}_skew is\", skew)\n",
    "    print(f\"{sample_acronym}_kurt is\", kurt)\n",
    "    \n",
    "    \n",
    "    Normal_test = kstest(sample, 'norm')\n",
    "    print(f\"{sample_acronym} as\", Normal_test)\n",
    "    p= Normal_test[1]\n",
    "    \n",
    "    if p>0.05:\n",
    "        print(\"The data are normally distributed by Judging the p-value\")\n",
    "    else:\n",
    "        print(\"The data aren't normally distributed by Judging the p-value\")\n",
    "    print(\"\\n\")\n",
    "    \n",
    "    print(\"It can be observed from qqplot that data is subject to normal distribution, which is caused by reasons such as kstest may not be applicable or data samples are not sufficient.\")\n",
    "    plt.figure(figsize=(6, 4))\n",
    "    st.probplot(sample, dist=\"norm\", plot=plt)\n",
    "    \n",
    "    plt.savefig(f\"/kaggle/working/Graph_{No}.png\")\n",
    "    plt.show()\n",
    "    \n",
    "    if skew<1 and skew>-1:\n",
    "        print(\"The distribution is symmetric by skew.\")\n",
    "    elif skew<-1:\n",
    "        print(\"The distribution is skewed to the left tail which is negative.\")\n",
    "    elif skew>1:\n",
    "        print(\"The distribution is skewed to the right tail which is positive.\")\n",
    "        \n",
    "    return p"
   ]
  },
  {
   "cell_type": "code",
   "execution_count": 4,
   "id": "8b299a04",
   "metadata": {
    "execution": {
     "iopub.execute_input": "2023-03-03T08:17:46.438747Z",
     "iopub.status.busy": "2023-03-03T08:17:46.438020Z",
     "iopub.status.idle": "2023-03-03T08:17:46.447028Z",
     "shell.execute_reply": "2023-03-03T08:17:46.446034Z"
    },
    "papermill": {
     "duration": 0.021334,
     "end_time": "2023-03-03T08:17:46.449593",
     "exception": false,
     "start_time": "2023-03-03T08:17:46.428259",
     "status": "completed"
    },
    "tags": []
   },
   "outputs": [],
   "source": [
    "def Fit_normal(sample, xlabel, No):\n",
    "    #Parameter \n",
    "    length = len(sample)\n",
    "    bin_value = length-1\n",
    "    mu = sample.mean()\n",
    "    sigma = sample.std()\n",
    "    \n",
    "    #Figure\n",
    "    plt.figure(figsize=(6, 4))\n",
    "    plt.grid(ls='--',alpha=0.4)\n",
    "    plt.xlabel(xlabel) \n",
    "    plt.ylabel('Count') \n",
    "    count, bins, _ = plt.hist(sample, bin_value, density=True, stacked=True, color='r', alpha=0.5)\n",
    "    \n",
    "    #Fitting\n",
    "    fit = 1./(np.sqrt(2*np.pi)*sigma)*np.exp(-(bins-mu)**2/(2*sigma**2))\n",
    "    \n",
    "    plt.title(f'mu = {mu.round(4)} sigma = {sigma.round(4)}')\n",
    "    plt.plot(bins, fit, color='b')\n",
    "    \n",
    "    plt.savefig(f\"/kaggle/working/Figure_{No}.png\")\n",
    "    plt.show()\n",
    "    \n",
    "    return fit"
   ]
  },
  {
   "cell_type": "code",
   "execution_count": 5,
   "id": "8be7199a",
   "metadata": {
    "execution": {
     "iopub.execute_input": "2023-03-03T08:17:46.468260Z",
     "iopub.status.busy": "2023-03-03T08:17:46.467579Z",
     "iopub.status.idle": "2023-03-03T08:17:46.475900Z",
     "shell.execute_reply": "2023-03-03T08:17:46.474702Z"
    },
    "papermill": {
     "duration": 0.020829,
     "end_time": "2023-03-03T08:17:46.478635",
     "exception": false,
     "start_time": "2023-03-03T08:17:46.457806",
     "status": "completed"
    },
    "tags": []
   },
   "outputs": [],
   "source": [
    "def Loss(y_true,y_pre):\n",
    "    SSE = np.sum((y_true - y_pre)**2)\n",
    "    MSE = metrics.mean_squared_error(y_true,y_pre)\n",
    "    RMSE = (metrics.mean_squared_error(y_true,y_pre))**0.5\n",
    "    MAE = metrics.mean_absolute_error(y_true,y_pre)\n",
    "    MAPE = metrics.mean_absolute_percentage_error(y_true,y_pre)\n",
    "    #SST = np.sum((df[\"rt\"].values - np.mean(df[\"rt\"].values))**2)\n",
    "    R2 = r2_score(y_true,y_pre)\n",
    "    \n",
    "    Normal_test = kstest(y_true, 'norm')\n",
    "    p= Normal_test[1]\n",
    "    \n",
    "    print(\"SSE=\",SSE, \"\\nMSE=\",MSE, \"\\nRMSE=\",RMSE, \"\\nMAE=\",MAE, \"\\nMAPE=\",MAPE, \"\\nR2=\",R2, \"\\np-value=\",p)\n",
    "    \n",
    "    loss=[SSE,MSE,RMSE,MAE,MAPE,R2,p]\n",
    "    return loss"
   ]
  },
  {
   "cell_type": "markdown",
   "id": "5d5098c8",
   "metadata": {
    "papermill": {
     "duration": 0.007847,
     "end_time": "2023-03-03T08:17:46.495812",
     "exception": false,
     "start_time": "2023-03-03T08:17:46.487965",
     "status": "completed"
    },
    "tags": []
   },
   "source": [
    "# Step 1: Pick one stock. \n",
    "Download its historical closing price series over some periods more than \n",
    "one year."
   ]
  },
  {
   "cell_type": "code",
   "execution_count": 6,
   "id": "b301a2a5",
   "metadata": {
    "execution": {
     "iopub.execute_input": "2023-03-03T08:17:46.515054Z",
     "iopub.status.busy": "2023-03-03T08:17:46.514311Z",
     "iopub.status.idle": "2023-03-03T08:17:46.554789Z",
     "shell.execute_reply": "2023-03-03T08:17:46.553633Z"
    },
    "papermill": {
     "duration": 0.053464,
     "end_time": "2023-03-03T08:17:46.557400",
     "exception": false,
     "start_time": "2023-03-03T08:17:46.503936",
     "status": "completed"
    },
    "tags": []
   },
   "outputs": [],
   "source": [
    "data = pd.read_csv(\"/kaggle/input/stock-601012/601012.csv\")\n",
    "data.head(5)\n",
    "data = data[[\"日期\",\"收盘价(元)\"]]\n",
    "data = data.rename ( {\"日期\":\"date\", \"收盘价(元)\":\"close\"}, axis=\"columns\")\n",
    "data=data.tail(500)"
   ]
  },
  {
   "cell_type": "code",
   "execution_count": 7,
   "id": "e2ffb270",
   "metadata": {
    "execution": {
     "iopub.execute_input": "2023-03-03T08:17:46.576427Z",
     "iopub.status.busy": "2023-03-03T08:17:46.575698Z",
     "iopub.status.idle": "2023-03-03T08:17:46.588737Z",
     "shell.execute_reply": "2023-03-03T08:17:46.586737Z"
    },
    "papermill": {
     "duration": 0.025966,
     "end_time": "2023-03-03T08:17:46.591669",
     "exception": false,
     "start_time": "2023-03-03T08:17:46.565703",
     "status": "completed"
    },
    "tags": []
   },
   "outputs": [
    {
     "name": "stdout",
     "output_type": "stream",
     "text": [
      "(500, 2)\n"
     ]
    },
    {
     "data": {
      "text/plain": [
       "date     2\n",
       "close    2\n",
       "dtype: int64"
      ]
     },
     "execution_count": 7,
     "metadata": {},
     "output_type": "execute_result"
    }
   ],
   "source": [
    "print(data.shape)\n",
    "data.isnull().sum()"
   ]
  },
  {
   "cell_type": "code",
   "execution_count": 8,
   "id": "713282a7",
   "metadata": {
    "execution": {
     "iopub.execute_input": "2023-03-03T08:17:46.610985Z",
     "iopub.status.busy": "2023-03-03T08:17:46.610499Z",
     "iopub.status.idle": "2023-03-03T08:17:46.636801Z",
     "shell.execute_reply": "2023-03-03T08:17:46.635282Z"
    },
    "papermill": {
     "duration": 0.039397,
     "end_time": "2023-03-03T08:17:46.639712",
     "exception": false,
     "start_time": "2023-03-03T08:17:46.600315",
     "status": "completed"
    },
    "tags": []
   },
   "outputs": [
    {
     "name": "stdout",
     "output_type": "stream",
     "text": [
      "(498, 2)\n"
     ]
    },
    {
     "data": {
      "text/plain": [
       "<bound method DataFrame.info of             date   close\n",
       "2146  2021-02-01  106.92\n",
       "2147  2021-02-02  109.01\n",
       "2148  2021-02-03  108.82\n",
       "2149  2021-02-04  110.74\n",
       "2150  2021-02-05  114.62\n",
       "...          ...     ...\n",
       "2639  2023-02-17   43.37\n",
       "2640  2023-02-20   44.12\n",
       "2641  2023-02-21   45.19\n",
       "2642  2023-02-22   44.37\n",
       "2643  2023-02-23   45.78\n",
       "\n",
       "[498 rows x 2 columns]>"
      ]
     },
     "execution_count": 8,
     "metadata": {},
     "output_type": "execute_result"
    }
   ],
   "source": [
    "df = data.dropna(axis=0)\n",
    "print(df.shape)\n",
    "df.info"
   ]
  },
  {
   "cell_type": "markdown",
   "id": "417ca622",
   "metadata": {
    "papermill": {
     "duration": 0.008506,
     "end_time": "2023-03-03T08:17:46.656917",
     "exception": false,
     "start_time": "2023-03-03T08:17:46.648411",
     "status": "completed"
    },
    "tags": []
   },
   "source": [
    "# Step 2: Calculate the daily returns.\n",
    "𝑟𝑡 = (𝑆𝑡/𝑆(𝑡−1)) − 1"
   ]
  },
  {
   "cell_type": "code",
   "execution_count": 9,
   "id": "bfb106ae",
   "metadata": {
    "execution": {
     "iopub.execute_input": "2023-03-03T08:17:46.677074Z",
     "iopub.status.busy": "2023-03-03T08:17:46.675913Z",
     "iopub.status.idle": "2023-03-03T08:17:46.707135Z",
     "shell.execute_reply": "2023-03-03T08:17:46.705623Z"
    },
    "papermill": {
     "duration": 0.04451,
     "end_time": "2023-03-03T08:17:46.710043",
     "exception": false,
     "start_time": "2023-03-03T08:17:46.665533",
     "status": "completed"
    },
    "tags": []
   },
   "outputs": [
    {
     "name": "stderr",
     "output_type": "stream",
     "text": [
      "/opt/conda/lib/python3.7/site-packages/ipykernel_launcher.py:1: SettingWithCopyWarning: \n",
      "A value is trying to be set on a copy of a slice from a DataFrame.\n",
      "Try using .loc[row_indexer,col_indexer] = value instead\n",
      "\n",
      "See the caveats in the documentation: https://pandas.pydata.org/pandas-docs/stable/user_guide/indexing.html#returning-a-view-versus-a-copy\n",
      "  \"\"\"Entry point for launching an IPython kernel.\n",
      "/opt/conda/lib/python3.7/site-packages/ipykernel_launcher.py:2: SettingWithCopyWarning: \n",
      "A value is trying to be set on a copy of a slice from a DataFrame.\n",
      "Try using .loc[row_indexer,col_indexer] = value instead\n",
      "\n",
      "See the caveats in the documentation: https://pandas.pydata.org/pandas-docs/stable/user_guide/indexing.html#returning-a-view-versus-a-copy\n",
      "  \n",
      "/opt/conda/lib/python3.7/site-packages/ipykernel_launcher.py:3: SettingWithCopyWarning: \n",
      "A value is trying to be set on a copy of a slice from a DataFrame.\n",
      "Try using .loc[row_indexer,col_indexer] = value instead\n",
      "\n",
      "See the caveats in the documentation: https://pandas.pydata.org/pandas-docs/stable/user_guide/indexing.html#returning-a-view-versus-a-copy\n",
      "  This is separate from the ipykernel package so we can avoid doing imports until\n"
     ]
    },
    {
     "data": {
      "text/html": [
       "<div>\n",
       "<style scoped>\n",
       "    .dataframe tbody tr th:only-of-type {\n",
       "        vertical-align: middle;\n",
       "    }\n",
       "\n",
       "    .dataframe tbody tr th {\n",
       "        vertical-align: top;\n",
       "    }\n",
       "\n",
       "    .dataframe thead th {\n",
       "        text-align: right;\n",
       "    }\n",
       "</style>\n",
       "<table border=\"1\" class=\"dataframe\">\n",
       "  <thead>\n",
       "    <tr style=\"text-align: right;\">\n",
       "      <th></th>\n",
       "      <th>date</th>\n",
       "      <th>close</th>\n",
       "      <th>st</th>\n",
       "      <th>st_1</th>\n",
       "      <th>rt</th>\n",
       "    </tr>\n",
       "  </thead>\n",
       "  <tbody>\n",
       "    <tr>\n",
       "      <th>2146</th>\n",
       "      <td>2021-02-01</td>\n",
       "      <td>106.92</td>\n",
       "      <td>106.92</td>\n",
       "      <td>NaN</td>\n",
       "      <td>NaN</td>\n",
       "    </tr>\n",
       "    <tr>\n",
       "      <th>2147</th>\n",
       "      <td>2021-02-02</td>\n",
       "      <td>109.01</td>\n",
       "      <td>109.01</td>\n",
       "      <td>106.92</td>\n",
       "      <td>0.019547</td>\n",
       "    </tr>\n",
       "    <tr>\n",
       "      <th>2148</th>\n",
       "      <td>2021-02-03</td>\n",
       "      <td>108.82</td>\n",
       "      <td>108.82</td>\n",
       "      <td>109.01</td>\n",
       "      <td>-0.001743</td>\n",
       "    </tr>\n",
       "    <tr>\n",
       "      <th>2149</th>\n",
       "      <td>2021-02-04</td>\n",
       "      <td>110.74</td>\n",
       "      <td>110.74</td>\n",
       "      <td>108.82</td>\n",
       "      <td>0.017644</td>\n",
       "    </tr>\n",
       "    <tr>\n",
       "      <th>2150</th>\n",
       "      <td>2021-02-05</td>\n",
       "      <td>114.62</td>\n",
       "      <td>114.62</td>\n",
       "      <td>110.74</td>\n",
       "      <td>0.035037</td>\n",
       "    </tr>\n",
       "  </tbody>\n",
       "</table>\n",
       "</div>"
      ],
      "text/plain": [
       "            date   close      st    st_1        rt\n",
       "2146  2021-02-01  106.92  106.92     NaN       NaN\n",
       "2147  2021-02-02  109.01  109.01  106.92  0.019547\n",
       "2148  2021-02-03  108.82  108.82  109.01 -0.001743\n",
       "2149  2021-02-04  110.74  110.74  108.82  0.017644\n",
       "2150  2021-02-05  114.62  114.62  110.74  0.035037"
      ]
     },
     "execution_count": 9,
     "metadata": {},
     "output_type": "execute_result"
    }
   ],
   "source": [
    "df[\"st\"] = df[\"close\"]\n",
    "df[\"st_1\"] = df[\"close\"].shift(1)\n",
    "df[\"rt\"]=(df[\"st\"]/df[\"st_1\"]-1)\n",
    "df.head(5)"
   ]
  },
  {
   "cell_type": "markdown",
   "id": "69dbfdf0",
   "metadata": {
    "papermill": {
     "duration": 0.008742,
     "end_time": "2023-03-03T08:17:46.727810",
     "exception": false,
     "start_time": "2023-03-03T08:17:46.719068",
     "status": "completed"
    },
    "tags": []
   },
   "source": [
    "**Date from 2021-02-01 to 2023-02-23 with 498 trading day.**"
   ]
  },
  {
   "cell_type": "code",
   "execution_count": 10,
   "id": "6e2be7f6",
   "metadata": {
    "execution": {
     "iopub.execute_input": "2023-03-03T08:17:46.748522Z",
     "iopub.status.busy": "2023-03-03T08:17:46.748074Z",
     "iopub.status.idle": "2023-03-03T08:17:46.754486Z",
     "shell.execute_reply": "2023-03-03T08:17:46.753171Z"
    },
    "papermill": {
     "duration": 0.020801,
     "end_time": "2023-03-03T08:17:46.758051",
     "exception": false,
     "start_time": "2023-03-03T08:17:46.737250",
     "status": "completed"
    },
    "tags": []
   },
   "outputs": [
    {
     "name": "stdout",
     "output_type": "stream",
     "text": [
      "(497, 5)\n"
     ]
    }
   ],
   "source": [
    "df = df.tail(497)\n",
    "print(df.shape)"
   ]
  },
  {
   "cell_type": "markdown",
   "id": "f8913572",
   "metadata": {
    "papermill": {
     "duration": 0.008571,
     "end_time": "2023-03-03T08:17:46.776408",
     "exception": false,
     "start_time": "2023-03-03T08:17:46.767837",
     "status": "completed"
    },
    "tags": []
   },
   "source": [
    "**Outliers.**"
   ]
  },
  {
   "cell_type": "code",
   "execution_count": 11,
   "id": "09b934b1",
   "metadata": {
    "execution": {
     "iopub.execute_input": "2023-03-03T08:17:46.796979Z",
     "iopub.status.busy": "2023-03-03T08:17:46.796275Z",
     "iopub.status.idle": "2023-03-03T08:17:47.052676Z",
     "shell.execute_reply": "2023-03-03T08:17:47.051220Z"
    },
    "papermill": {
     "duration": 0.270147,
     "end_time": "2023-03-03T08:17:47.055553",
     "exception": false,
     "start_time": "2023-03-03T08:17:46.785406",
     "status": "completed"
    },
    "tags": []
   },
   "outputs": [
    {
     "name": "stdout",
     "output_type": "stream",
     "text": [
      "count    497.000000\n",
      "mean      -0.001111\n",
      "std        0.033672\n",
      "min       -0.272744\n",
      "25%       -0.018146\n",
      "50%       -0.000203\n",
      "75%        0.015594\n",
      "max        0.096162\n",
      "Name: rt, dtype: float64\n"
     ]
    },
    {
     "data": {
      "image/png": "[encoded data removed]",
      "text/plain": [
       "<Figure size 600x400 with 1 Axes>"
      ]
     },
     "metadata": {},
     "output_type": "display_data"
    },
    {
     "name": "stdout",
     "output_type": "stream",
     "text": [
      "IQR value for column rt is: 0.0337399367700606\n",
      "Shape of data after outlier removal is:  (478, 5)\n"
     ]
    }
   ],
   "source": [
    "removeOutliers(df, \"rt\",\"1\")\n",
    "df = filtered_data\n",
    "print(\"Shape of data after outlier removal is: \", df.shape)"
   ]
  },
  {
   "cell_type": "markdown",
   "id": "b459f5d3",
   "metadata": {
    "papermill": {
     "duration": 0.009141,
     "end_time": "2023-03-03T08:17:47.074524",
     "exception": false,
     "start_time": "2023-03-03T08:17:47.065383",
     "status": "completed"
    },
    "tags": []
   },
   "source": [
    "# Step 3: Draw the histogram of the daily returns {𝑟𝑡}."
   ]
  },
  {
   "cell_type": "code",
   "execution_count": 12,
   "id": "b4fe03b0",
   "metadata": {
    "execution": {
     "iopub.execute_input": "2023-03-03T08:17:47.096260Z",
     "iopub.status.busy": "2023-03-03T08:17:47.094623Z",
     "iopub.status.idle": "2023-03-03T08:17:47.539739Z",
     "shell.execute_reply": "2023-03-03T08:17:47.538383Z"
    },
    "papermill": {
     "duration": 0.458512,
     "end_time": "2023-03-03T08:17:47.542436",
     "exception": false,
     "start_time": "2023-03-03T08:17:47.083924",
     "status": "completed"
    },
    "tags": []
   },
   "outputs": [
    {
     "data": {
      "image/png": "[encoded data removed]",
      "text/plain": [
       "<Figure size 600x400 with 1 Axes>"
      ]
     },
     "metadata": {},
     "output_type": "display_data"
    }
   ],
   "source": [
    "#parameter: bin=30<-498\n",
    "\n",
    "plt.figure(figsize=(6, 4))\n",
    "df[\"rt\"].hist(color='r', alpha=0.5, bins=30)\n",
    "plt.grid(ls='--',alpha=0.4)\n",
    "plt.title('Histogram of Daily Returns with bin=30') #Figure1\n",
    "plt.xlabel('rt(%)') \n",
    "plt.ylabel('Count') \n",
    "plt.savefig(\"/kaggle/working/Figure_1.png\")\n",
    "plt.show()"
   ]
  },
  {
   "cell_type": "markdown",
   "id": "cc7f0fe5",
   "metadata": {
    "papermill": {
     "duration": 0.009806,
     "end_time": "2023-03-03T08:17:47.562580",
     "exception": false,
     "start_time": "2023-03-03T08:17:47.552774",
     "status": "completed"
    },
    "tags": []
   },
   "source": [
    "# Question 1: \n",
    "* What does this histogram look like? \n",
    "* Is it symmetrical around the mean? \n",
    "* Does it have heavier left tails or right tails?\n",
    "\n",
    "1. **The histogram looks like normal distribution.**\n",
    "1. **It is generally symmetrical around the mean.**\n",
    "1. **I think there does't have a left tails but some outliers on the left hand side.**\n",
    "\n",
    "# Question 2: \n",
    "Calculate the sample mean, sample variance, sample skewness and sample kurtosis."
   ]
  },
  {
   "cell_type": "code",
   "execution_count": 13,
   "id": "87c88999",
   "metadata": {
    "execution": {
     "iopub.execute_input": "2023-03-03T08:17:47.585908Z",
     "iopub.status.busy": "2023-03-03T08:17:47.584600Z",
     "iopub.status.idle": "2023-03-03T08:17:47.906413Z",
     "shell.execute_reply": "2023-03-03T08:17:47.905173Z"
    },
    "papermill": {
     "duration": 0.337014,
     "end_time": "2023-03-03T08:17:47.909735",
     "exception": false,
     "start_time": "2023-03-03T08:17:47.572721",
     "status": "completed"
    },
    "tags": []
   },
   "outputs": [
    {
     "name": "stdout",
     "output_type": "stream",
     "text": [
      "Nan = 0\n",
      "rt_mean is 0.00016479709163051546\n",
      "rt_std is 0.025429492969941136\n",
      "rt_var is 0.0006466591127082857\n",
      "rt_skew is 0.17713344907215\n",
      "rt_kurt is -0.09098613565014624\n",
      "rt as KstestResult(statistic=0.47418760854118625, pvalue=3.2774304694411284e-99)\n",
      "The data aren't normally distributed by Judging the p-value\n",
      "\n",
      "\n",
      "It can be observed from qqplot that data is subject to normal distribution, which is caused by reasons such as kstest may not be applicable or data samples are not sufficient.\n"
     ]
    },
    {
     "data": {
      "image/png": "[encoded data removed]",
      "text/plain": [
       "<Figure size 600x400 with 1 Axes>"
      ]
     },
     "metadata": {},
     "output_type": "display_data"
    },
    {
     "name": "stdout",
     "output_type": "stream",
     "text": [
      "The distribution is symmetric by skew.\n"
     ]
    }
   ],
   "source": [
    "rt_s = Statistics_Normal_test(df[\"rt\"], \"rt\", \"2\")"
   ]
  },
  {
   "cell_type": "markdown",
   "id": "d508e354",
   "metadata": {
    "papermill": {
     "duration": 0.01622,
     "end_time": "2023-03-03T08:17:47.944971",
     "exception": false,
     "start_time": "2023-03-03T08:17:47.928751",
     "status": "completed"
    },
    "tags": []
   },
   "source": [
    "# Step 4: Use the normal distribution to fit the daily returns. Plot the histogram and the fitted normal curve in one figure."
   ]
  },
  {
   "cell_type": "code",
   "execution_count": 14,
   "id": "17703674",
   "metadata": {
    "execution": {
     "iopub.execute_input": "2023-03-03T08:17:47.972807Z",
     "iopub.status.busy": "2023-03-03T08:17:47.971206Z",
     "iopub.status.idle": "2023-03-03T08:17:49.377508Z",
     "shell.execute_reply": "2023-03-03T08:17:49.376138Z"
    },
    "papermill": {
     "duration": 1.423638,
     "end_time": "2023-03-03T08:17:49.380527",
     "exception": false,
     "start_time": "2023-03-03T08:17:47.956889",
     "status": "completed"
    },
    "tags": []
   },
   "outputs": [
    {
     "data": {
      "image/png": "[encoded data removed]",
      "text/plain": [
       "<Figure size 600x400 with 1 Axes>"
      ]
     },
     "metadata": {},
     "output_type": "display_data"
    }
   ],
   "source": [
    "fit_rt = Fit_normal(df[\"rt\"], \"rt(%)\", \"2\")"
   ]
  },
  {
   "cell_type": "markdown",
   "id": "891e34d7",
   "metadata": {
    "papermill": {
     "duration": 0.011723,
     "end_time": "2023-03-03T08:17:49.404140",
     "exception": false,
     "start_time": "2023-03-03T08:17:49.392417",
     "status": "completed"
    },
    "tags": []
   },
   "source": [
    "# Question 3: \n",
    "* What is the fitted expected return with normal distribution? \n",
    "* What is the fitted standard deviation?"
   ]
  },
  {
   "cell_type": "code",
   "execution_count": 15,
   "id": "7f3edba5",
   "metadata": {
    "execution": {
     "iopub.execute_input": "2023-03-03T08:17:49.431250Z",
     "iopub.status.busy": "2023-03-03T08:17:49.430823Z",
     "iopub.status.idle": "2023-03-03T08:17:49.437213Z",
     "shell.execute_reply": "2023-03-03T08:17:49.436290Z"
    },
    "papermill": {
     "duration": 0.023716,
     "end_time": "2023-03-03T08:17:49.440160",
     "exception": false,
     "start_time": "2023-03-03T08:17:49.416444",
     "status": "completed"
    },
    "tags": []
   },
   "outputs": [
    {
     "name": "stdout",
     "output_type": "stream",
     "text": [
      "7.591590114887446 5.244003293456913\n"
     ]
    }
   ],
   "source": [
    "fit_mean = np.mean(fit_rt)\n",
    "fit_std = np.std(fit_rt, ddof=1)\n",
    "print(fit_mean, fit_std)"
   ]
  },
  {
   "cell_type": "markdown",
   "id": "830010d4",
   "metadata": {
    "papermill": {
     "duration": 0.012161,
     "end_time": "2023-03-03T08:17:49.465552",
     "exception": false,
     "start_time": "2023-03-03T08:17:49.453391",
     "status": "completed"
    },
    "tags": []
   },
   "source": [
    "# Question 4: \n",
    "Does the normal distribution fit the sample distribution well?"
   ]
  },
  {
   "cell_type": "code",
   "execution_count": 16,
   "id": "bffd7708",
   "metadata": {
    "execution": {
     "iopub.execute_input": "2023-03-03T08:17:49.493220Z",
     "iopub.status.busy": "2023-03-03T08:17:49.492806Z",
     "iopub.status.idle": "2023-03-03T08:17:49.501766Z",
     "shell.execute_reply": "2023-03-03T08:17:49.500406Z"
    },
    "papermill": {
     "duration": 0.026397,
     "end_time": "2023-03-03T08:17:49.504395",
     "exception": false,
     "start_time": "2023-03-03T08:17:49.477998",
     "status": "completed"
    },
    "tags": []
   },
   "outputs": [
    {
     "name": "stdout",
     "output_type": "stream",
     "text": [
      "SSE= 40667.56465750687 \n",
      "MSE= 85.07858714959596 \n",
      "RMSE= 9.223805459223215 \n",
      "MAE= 7.5914253177958155 \n",
      "MAPE= 308035715474703.44 \n",
      "R2= -131841.1828317757 \n",
      "p-value= 3.2774304694411284e-99\n"
     ]
    }
   ],
   "source": [
    "loss_1=Loss(df[\"rt\"].values, fit_rt)"
   ]
  },
  {
   "cell_type": "markdown",
   "id": "0827195b",
   "metadata": {
    "papermill": {
     "duration": 0.011857,
     "end_time": "2023-03-03T08:17:49.529028",
     "exception": false,
     "start_time": "2023-03-03T08:17:49.517171",
     "status": "completed"
    },
    "tags": []
   },
   "source": [
    "# Step 5: Calculate the log returns.\n",
    "log_rt = ln(St)-ln(S(t-1))"
   ]
  },
  {
   "cell_type": "code",
   "execution_count": 17,
   "id": "87186f1f",
   "metadata": {
    "execution": {
     "iopub.execute_input": "2023-03-03T08:17:49.555057Z",
     "iopub.status.busy": "2023-03-03T08:17:49.554351Z",
     "iopub.status.idle": "2023-03-03T08:17:49.574891Z",
     "shell.execute_reply": "2023-03-03T08:17:49.573433Z"
    },
    "papermill": {
     "duration": 0.036788,
     "end_time": "2023-03-03T08:17:49.577595",
     "exception": false,
     "start_time": "2023-03-03T08:17:49.540807",
     "status": "completed"
    },
    "tags": []
   },
   "outputs": [
    {
     "data": {
      "text/html": [
       "<div>\n",
       "<style scoped>\n",
       "    .dataframe tbody tr th:only-of-type {\n",
       "        vertical-align: middle;\n",
       "    }\n",
       "\n",
       "    .dataframe tbody tr th {\n",
       "        vertical-align: top;\n",
       "    }\n",
       "\n",
       "    .dataframe thead th {\n",
       "        text-align: right;\n",
       "    }\n",
       "</style>\n",
       "<table border=\"1\" class=\"dataframe\">\n",
       "  <thead>\n",
       "    <tr style=\"text-align: right;\">\n",
       "      <th></th>\n",
       "      <th>date</th>\n",
       "      <th>close</th>\n",
       "      <th>st</th>\n",
       "      <th>st_1</th>\n",
       "      <th>rt</th>\n",
       "      <th>ln_st</th>\n",
       "      <th>ln_st_1</th>\n",
       "      <th>log_rt</th>\n",
       "    </tr>\n",
       "  </thead>\n",
       "  <tbody>\n",
       "    <tr>\n",
       "      <th>2147</th>\n",
       "      <td>2021-02-02</td>\n",
       "      <td>109.01</td>\n",
       "      <td>109.01</td>\n",
       "      <td>106.92</td>\n",
       "      <td>0.019547</td>\n",
       "      <td>4.691440</td>\n",
       "      <td>4.672081</td>\n",
       "      <td>0.019359</td>\n",
       "    </tr>\n",
       "    <tr>\n",
       "      <th>2148</th>\n",
       "      <td>2021-02-03</td>\n",
       "      <td>108.82</td>\n",
       "      <td>108.82</td>\n",
       "      <td>109.01</td>\n",
       "      <td>-0.001743</td>\n",
       "      <td>4.689695</td>\n",
       "      <td>4.691440</td>\n",
       "      <td>-0.001744</td>\n",
       "    </tr>\n",
       "    <tr>\n",
       "      <th>2149</th>\n",
       "      <td>2021-02-04</td>\n",
       "      <td>110.74</td>\n",
       "      <td>110.74</td>\n",
       "      <td>108.82</td>\n",
       "      <td>0.017644</td>\n",
       "      <td>4.707185</td>\n",
       "      <td>4.689695</td>\n",
       "      <td>0.017490</td>\n",
       "    </tr>\n",
       "    <tr>\n",
       "      <th>2150</th>\n",
       "      <td>2021-02-05</td>\n",
       "      <td>114.62</td>\n",
       "      <td>114.62</td>\n",
       "      <td>110.74</td>\n",
       "      <td>0.035037</td>\n",
       "      <td>4.741622</td>\n",
       "      <td>4.707185</td>\n",
       "      <td>0.034437</td>\n",
       "    </tr>\n",
       "    <tr>\n",
       "      <th>2151</th>\n",
       "      <td>2021-02-08</td>\n",
       "      <td>112.20</td>\n",
       "      <td>112.20</td>\n",
       "      <td>114.62</td>\n",
       "      <td>-0.021113</td>\n",
       "      <td>4.720283</td>\n",
       "      <td>4.741622</td>\n",
       "      <td>-0.021339</td>\n",
       "    </tr>\n",
       "  </tbody>\n",
       "</table>\n",
       "</div>"
      ],
      "text/plain": [
       "            date   close      st    st_1        rt     ln_st   ln_st_1  \\\n",
       "2147  2021-02-02  109.01  109.01  106.92  0.019547  4.691440  4.672081   \n",
       "2148  2021-02-03  108.82  108.82  109.01 -0.001743  4.689695  4.691440   \n",
       "2149  2021-02-04  110.74  110.74  108.82  0.017644  4.707185  4.689695   \n",
       "2150  2021-02-05  114.62  114.62  110.74  0.035037  4.741622  4.707185   \n",
       "2151  2021-02-08  112.20  112.20  114.62 -0.021113  4.720283  4.741622   \n",
       "\n",
       "        log_rt  \n",
       "2147  0.019359  \n",
       "2148 -0.001744  \n",
       "2149  0.017490  \n",
       "2150  0.034437  \n",
       "2151 -0.021339  "
      ]
     },
     "execution_count": 17,
     "metadata": {},
     "output_type": "execute_result"
    }
   ],
   "source": [
    "df[\"ln_st\"] = np.log(df[\"st\"])\n",
    "df[\"ln_st_1\"] = np.log(df[\"st_1\"])\n",
    "df[\"log_rt\"] = df[\"ln_st\"]-df[\"ln_st_1\"]\n",
    "df.head(5)"
   ]
  },
  {
   "cell_type": "markdown",
   "id": "bc68b5db",
   "metadata": {
    "papermill": {
     "duration": 0.012704,
     "end_time": "2023-03-03T08:17:49.602828",
     "exception": false,
     "start_time": "2023-03-03T08:17:49.590124",
     "status": "completed"
    },
    "tags": []
   },
   "source": [
    "# Step 6: Use normal distribution to fit the log returns. \n",
    "* That is, we try to use log-normal distributions to fit the series {𝑆𝑡/𝑆(𝑡−1)}.\n",
    "* Plot the histogram of {𝑆𝑡/𝑆(𝑡−1)} and the fitted log-normal distribution curve in one figure."
   ]
  },
  {
   "cell_type": "code",
   "execution_count": 18,
   "id": "06139f3b",
   "metadata": {
    "execution": {
     "iopub.execute_input": "2023-03-03T08:17:49.632463Z",
     "iopub.status.busy": "2023-03-03T08:17:49.632023Z",
     "iopub.status.idle": "2023-03-03T08:17:49.932810Z",
     "shell.execute_reply": "2023-03-03T08:17:49.931318Z"
    },
    "papermill": {
     "duration": 0.319657,
     "end_time": "2023-03-03T08:17:49.935804",
     "exception": false,
     "start_time": "2023-03-03T08:17:49.616147",
     "status": "completed"
    },
    "tags": []
   },
   "outputs": [
    {
     "name": "stdout",
     "output_type": "stream",
     "text": [
      "Nan = 0\n",
      "log_rt_mean is -0.0001570987117443163\n",
      "log_rt_std is 0.025387869358943424\n",
      "log_rt_var is 0.0006445439105867784\n",
      "log_rt_skew is 0.10569995638762275\n",
      "log_rt_kurt is -0.10075427699845152\n",
      "log_rt as KstestResult(statistic=0.4749877772954487, pvalue=1.4497928562450066e-99)\n",
      "The data aren't normally distributed by Judging the p-value\n",
      "\n",
      "\n",
      "It can be observed from qqplot that data is subject to normal distribution, which is caused by reasons such as kstest may not be applicable or data samples are not sufficient.\n"
     ]
    },
    {
     "data": {
      "image/png": "[encoded data removed]",
      "text/plain": [
       "<Figure size 600x400 with 1 Axes>"
      ]
     },
     "metadata": {},
     "output_type": "display_data"
    },
    {
     "name": "stdout",
     "output_type": "stream",
     "text": [
      "The distribution is symmetric by skew.\n"
     ]
    }
   ],
   "source": [
    "log_rt_s = Statistics_Normal_test(df[\"log_rt\"], \"log_rt\", \"3\")"
   ]
  },
  {
   "cell_type": "code",
   "execution_count": 19,
   "id": "1f9663eb",
   "metadata": {
    "execution": {
     "iopub.execute_input": "2023-03-03T08:17:49.967172Z",
     "iopub.status.busy": "2023-03-03T08:17:49.966747Z",
     "iopub.status.idle": "2023-03-03T08:17:51.287703Z",
     "shell.execute_reply": "2023-03-03T08:17:51.285866Z"
    },
    "papermill": {
     "duration": 1.342001,
     "end_time": "2023-03-03T08:17:51.291508",
     "exception": false,
     "start_time": "2023-03-03T08:17:49.949507",
     "status": "completed"
    },
    "tags": []
   },
   "outputs": [
    {
     "data": {
      "image/png": "[encoded data removed]",
      "text/plain": [
       "<Figure size 600x400 with 1 Axes>"
      ]
     },
     "metadata": {},
     "output_type": "display_data"
    }
   ],
   "source": [
    "fit_log_rt = Fit_normal(df[\"log_rt\"], \"log_rt(%)\", \"3\")"
   ]
  },
  {
   "cell_type": "markdown",
   "id": "cf0def70",
   "metadata": {
    "papermill": {
     "duration": 0.014311,
     "end_time": "2023-03-03T08:17:51.320727",
     "exception": false,
     "start_time": "2023-03-03T08:17:51.306416",
     "status": "completed"
    },
    "tags": []
   },
   "source": [
    "# Question 5:\n",
    "* What is the fitted expected log return? \n",
    "* What is the fitted standard deviation?"
   ]
  },
  {
   "cell_type": "code",
   "execution_count": 20,
   "id": "2cd42e0d",
   "metadata": {
    "execution": {
     "iopub.execute_input": "2023-03-03T08:17:51.351921Z",
     "iopub.status.busy": "2023-03-03T08:17:51.350580Z",
     "iopub.status.idle": "2023-03-03T08:17:51.357853Z",
     "shell.execute_reply": "2023-03-03T08:17:51.356358Z"
    },
    "papermill": {
     "duration": 0.025163,
     "end_time": "2023-03-03T08:17:51.360239",
     "exception": false,
     "start_time": "2023-03-03T08:17:51.335076",
     "status": "completed"
    },
    "tags": []
   },
   "outputs": [
    {
     "name": "stdout",
     "output_type": "stream",
     "text": [
      "7.578389677865422 5.262399501606586\n"
     ]
    }
   ],
   "source": [
    "fit_log_mean = np.mean(fit_log_rt)\n",
    "fit_log_std = np.std(fit_log_rt, ddof=1) #sample standard deviation\n",
    "print(fit_log_mean, fit_log_std)"
   ]
  },
  {
   "cell_type": "markdown",
   "id": "9d67b03c",
   "metadata": {
    "papermill": {
     "duration": 0.013273,
     "end_time": "2023-03-03T08:17:51.387263",
     "exception": false,
     "start_time": "2023-03-03T08:17:51.373990",
     "status": "completed"
    },
    "tags": []
   },
   "source": [
    "# Question 6:\n",
    "Of the normal distribution and the lognormal distribution, which one fits the data \n",
    "better? Why?\n",
    "\n",
    "**Lognormal distribution is better.**"
   ]
  },
  {
   "cell_type": "code",
   "execution_count": 21,
   "id": "44f3ee32",
   "metadata": {
    "execution": {
     "iopub.execute_input": "2023-03-03T08:17:51.417482Z",
     "iopub.status.busy": "2023-03-03T08:17:51.416439Z",
     "iopub.status.idle": "2023-03-03T08:17:51.425417Z",
     "shell.execute_reply": "2023-03-03T08:17:51.424485Z"
    },
    "papermill": {
     "duration": 0.026592,
     "end_time": "2023-03-03T08:17:51.427672",
     "exception": false,
     "start_time": "2023-03-03T08:17:51.401080",
     "status": "completed"
    },
    "tags": []
   },
   "outputs": [
    {
     "name": "stdout",
     "output_type": "stream",
     "text": [
      "SSE= 40666.37746504367 \n",
      "MSE= 85.07610348335496 \n",
      "RMSE= 9.223670824750576 \n",
      "MAE= 7.578546776577166 \n",
      "MAPE= 306063108588974.25 \n",
      "R2= -132269.98835953226 \n",
      "p-value= 1.4497928562450066e-99\n"
     ]
    }
   ],
   "source": [
    "loss_2=Loss(df[\"log_rt\"], fit_log_rt)"
   ]
  },
  {
   "cell_type": "code",
   "execution_count": 22,
   "id": "0ea5fb42",
   "metadata": {
    "execution": {
     "iopub.execute_input": "2023-03-03T08:17:51.457710Z",
     "iopub.status.busy": "2023-03-03T08:17:51.456896Z",
     "iopub.status.idle": "2023-03-03T08:17:51.469850Z",
     "shell.execute_reply": "2023-03-03T08:17:51.468891Z"
    },
    "papermill": {
     "duration": 0.030999,
     "end_time": "2023-03-03T08:17:51.472218",
     "exception": false,
     "start_time": "2023-03-03T08:17:51.441219",
     "status": "completed"
    },
    "tags": []
   },
   "outputs": [
    {
     "data": {
      "text/html": [
       "<div>\n",
       "<style scoped>\n",
       "    .dataframe tbody tr th:only-of-type {\n",
       "        vertical-align: middle;\n",
       "    }\n",
       "\n",
       "    .dataframe tbody tr th {\n",
       "        vertical-align: top;\n",
       "    }\n",
       "\n",
       "    .dataframe thead th {\n",
       "        text-align: right;\n",
       "    }\n",
       "</style>\n",
       "<table border=\"1\" class=\"dataframe\">\n",
       "  <thead>\n",
       "    <tr style=\"text-align: right;\">\n",
       "      <th></th>\n",
       "      <th>Evaluation Matrix</th>\n",
       "      <th>loss_rt</th>\n",
       "      <th>loss_log_rt</th>\n",
       "    </tr>\n",
       "  </thead>\n",
       "  <tbody>\n",
       "    <tr>\n",
       "      <th>0</th>\n",
       "      <td>SSE</td>\n",
       "      <td>4.066756e+04</td>\n",
       "      <td>4.066638e+04</td>\n",
       "    </tr>\n",
       "    <tr>\n",
       "      <th>1</th>\n",
       "      <td>MSE</td>\n",
       "      <td>8.507859e+01</td>\n",
       "      <td>8.507610e+01</td>\n",
       "    </tr>\n",
       "    <tr>\n",
       "      <th>2</th>\n",
       "      <td>RMSE</td>\n",
       "      <td>9.223805e+00</td>\n",
       "      <td>9.223671e+00</td>\n",
       "    </tr>\n",
       "    <tr>\n",
       "      <th>3</th>\n",
       "      <td>MAE</td>\n",
       "      <td>7.591425e+00</td>\n",
       "      <td>7.578547e+00</td>\n",
       "    </tr>\n",
       "    <tr>\n",
       "      <th>4</th>\n",
       "      <td>MAPE</td>\n",
       "      <td>3.080357e+14</td>\n",
       "      <td>3.060631e+14</td>\n",
       "    </tr>\n",
       "    <tr>\n",
       "      <th>5</th>\n",
       "      <td>R2</td>\n",
       "      <td>-1.318412e+05</td>\n",
       "      <td>-1.322700e+05</td>\n",
       "    </tr>\n",
       "    <tr>\n",
       "      <th>6</th>\n",
       "      <td>p-value</td>\n",
       "      <td>3.277430e-99</td>\n",
       "      <td>1.449793e-99</td>\n",
       "    </tr>\n",
       "  </tbody>\n",
       "</table>\n",
       "</div>"
      ],
      "text/plain": [
       "  Evaluation Matrix       loss_rt   loss_log_rt\n",
       "0               SSE  4.066756e+04  4.066638e+04\n",
       "1               MSE  8.507859e+01  8.507610e+01\n",
       "2              RMSE  9.223805e+00  9.223671e+00\n",
       "3               MAE  7.591425e+00  7.578547e+00\n",
       "4              MAPE  3.080357e+14  3.060631e+14\n",
       "5                R2 -1.318412e+05 -1.322700e+05\n",
       "6           p-value  3.277430e-99  1.449793e-99"
      ]
     },
     "execution_count": 22,
     "metadata": {},
     "output_type": "execute_result"
    }
   ],
   "source": [
    "evaluate = { 'Evaluation Matrix':[\"SSE\", \"MSE\", \"RMSE\", \"MAE\", \"MAPE\", \"R2\", \"p-value\"],\n",
    "    'loss_rt': loss_1,\n",
    "    'loss_log_rt': loss_2}\n",
    "pd.DataFrame(evaluate)"
   ]
  }
 ],
 "metadata": {
  "kernelspec": {
   "display_name": "Python 3",
   "language": "python",
   "name": "python3"
  },
  "language_info": {
   "codemirror_mode": {
    "name": "ipython",
    "version": 3
   },
   "file_extension": ".py",
   "mimetype": "text/x-python",
   "name": "python",
   "nbconvert_exporter": "python",
   "pygments_lexer": "ipython3",
   "version": "3.7.12"
  },
  "papermill": {
   "default_parameters": {},
   "duration": 18.585707,
   "end_time": "2023-03-03T08:17:52.309265",
   "environment_variables": {},
   "exception": null,
   "input_path": "__notebook__.ipynb",
   "output_path": "__notebook__.ipynb",
   "parameters": {},
   "start_time": "2023-03-03T08:17:33.723558",
   "version": "2.4.0"
  }
 },
 "nbformat": 4,
 "nbformat_minor": 5
}
